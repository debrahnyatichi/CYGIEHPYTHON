{
 "cells": [
  {
   "cell_type": "markdown",
   "id": "c56a819e-59b3-4325-9449-76aa9c236365",
   "metadata": {},
   "source": [
    "Print variable a"
   ]
  },
  {
   "cell_type": "code",
   "execution_count": 3,
   "id": "a43e281a-e02a-4291-8721-23895e5e8091",
   "metadata": {},
   "outputs": [
    {
     "data": {
      "text/plain": [
       "50"
      ]
     },
     "execution_count": 3,
     "metadata": {},
     "output_type": "execute_result"
    }
   ],
   "source": [
    "a = 50\n",
    "a"
   ]
  },
  {
   "cell_type": "markdown",
   "id": "8b878ce4-b8af-40bc-bc92-b2ec24fead06",
   "metadata": {},
   "source": [
    "to check the type of variable a"
   ]
  },
  {
   "cell_type": "code",
   "execution_count": 4,
   "id": "4cf35575-24c5-4059-8b2f-e697d9a69cf7",
   "metadata": {},
   "outputs": [
    {
     "data": {
      "text/plain": [
       "int"
      ]
     },
     "execution_count": 4,
     "metadata": {},
     "output_type": "execute_result"
    }
   ],
   "source": [
    "type(a)"
   ]
  },
  {
   "cell_type": "markdown",
   "id": "640519a5-daed-4817-8462-b0a8bccd6ae6",
   "metadata": {},
   "source": [
    "id() it returns a unique id for the specified object. The unique id is always assigned when an object is created"
   ]
  },
  {
   "cell_type": "code",
   "execution_count": 5,
   "id": "89545b8a-e94a-413b-994b-04fac3ec45be",
   "metadata": {},
   "outputs": [
    {
     "data": {
      "text/plain": [
       "140707513485640"
      ]
     },
     "execution_count": 5,
     "metadata": {},
     "output_type": "execute_result"
    }
   ],
   "source": [
    "id(a)"
   ]
  },
  {
   "cell_type": "code",
   "execution_count": 6,
   "id": "c516b68c-0310-4e31-be24-791209c72c99",
   "metadata": {},
   "outputs": [
    {
     "data": {
      "text/plain": [
       "140707513487240"
      ]
     },
     "execution_count": 6,
     "metadata": {},
     "output_type": "execute_result"
    }
   ],
   "source": [
    "a=100\n",
    "id(a)"
   ]
  },
  {
   "cell_type": "markdown",
   "id": "70f49d42-7f2b-4b06-ab31-8c1b3cb310a5",
   "metadata": {},
   "source": [
    "Assigning multiple variables on a single line"
   ]
  },
  {
   "cell_type": "code",
   "execution_count": 7,
   "id": "f7e52844-800f-4d7c-89f9-05f6766b1a81",
   "metadata": {},
   "outputs": [],
   "source": [
    "(x,y,z) = 50,168.6,\"Debienta\""
   ]
  },
  {
   "cell_type": "code",
   "execution_count": 8,
   "id": "df588102-40cf-4f6a-92b4-935fb7796867",
   "metadata": {},
   "outputs": [
    {
     "data": {
      "text/plain": [
       "50"
      ]
     },
     "execution_count": 8,
     "metadata": {},
     "output_type": "execute_result"
    }
   ],
   "source": [
    "x"
   ]
  },
  {
   "cell_type": "code",
   "execution_count": 9,
   "id": "614b781d-a40b-4f94-9365-90a642cd3258",
   "metadata": {},
   "outputs": [
    {
     "data": {
      "text/plain": [
       "168.6"
      ]
     },
     "execution_count": 9,
     "metadata": {},
     "output_type": "execute_result"
    }
   ],
   "source": [
    "y"
   ]
  },
  {
   "cell_type": "code",
   "execution_count": 10,
   "id": "20273d62-4b16-4f3f-b1c0-0d71e7c7b4fe",
   "metadata": {},
   "outputs": [
    {
     "data": {
      "text/plain": [
       "'Debienta'"
      ]
     },
     "execution_count": 10,
     "metadata": {},
     "output_type": "execute_result"
    }
   ],
   "source": [
    "z"
   ]
  },
  {
   "cell_type": "code",
   "execution_count": 11,
   "id": "2731adfa-7fea-47d2-85b9-84f0e036f7ed",
   "metadata": {},
   "outputs": [
    {
     "data": {
      "text/plain": [
       "int"
      ]
     },
     "execution_count": 11,
     "metadata": {},
     "output_type": "execute_result"
    }
   ],
   "source": [
    "type(x)"
   ]
  },
  {
   "cell_type": "code",
   "execution_count": 12,
   "id": "595c60ad-253c-4959-8e8c-abd2ae9719d6",
   "metadata": {},
   "outputs": [
    {
     "data": {
      "text/plain": [
       "float"
      ]
     },
     "execution_count": 12,
     "metadata": {},
     "output_type": "execute_result"
    }
   ],
   "source": [
    "type(y)"
   ]
  },
  {
   "cell_type": "code",
   "execution_count": 13,
   "id": "d2a143db-9714-4f61-83f7-b543c566832f",
   "metadata": {},
   "outputs": [
    {
     "data": {
      "text/plain": [
       "str"
      ]
     },
     "execution_count": 13,
     "metadata": {},
     "output_type": "execute_result"
    }
   ],
   "source": [
    "type(z)"
   ]
  },
  {
   "cell_type": "code",
   "execution_count": 14,
   "id": "4ca212d2-c9b8-4a04-9633-e0bbcde31055",
   "metadata": {},
   "outputs": [],
   "source": [
    "x=y=z=10"
   ]
  },
  {
   "cell_type": "code",
   "execution_count": 15,
   "id": "0d3147c3-7d7a-416c-92d5-28a8d19e99f4",
   "metadata": {},
   "outputs": [
    {
     "data": {
      "text/plain": [
       "10"
      ]
     },
     "execution_count": 15,
     "metadata": {},
     "output_type": "execute_result"
    }
   ],
   "source": [
    "x"
   ]
  },
  {
   "cell_type": "code",
   "execution_count": 16,
   "id": "5ff6ad92-ae8b-45f4-b69d-a33ef13040af",
   "metadata": {},
   "outputs": [
    {
     "data": {
      "text/plain": [
       "10"
      ]
     },
     "execution_count": 16,
     "metadata": {},
     "output_type": "execute_result"
    }
   ],
   "source": [
    "y"
   ]
  },
  {
   "cell_type": "code",
   "execution_count": 17,
   "id": "115884cc-5576-4cc9-b2ad-5bbc20ab5ded",
   "metadata": {},
   "outputs": [
    {
     "data": {
      "text/plain": [
       "10"
      ]
     },
     "execution_count": 17,
     "metadata": {},
     "output_type": "execute_result"
    }
   ],
   "source": [
    "z"
   ]
  },
  {
   "cell_type": "code",
   "execution_count": 18,
   "id": "ddd0fd90-dcac-43ce-8e12-41650172fb62",
   "metadata": {},
   "outputs": [],
   "source": [
    "(x,y,z)=10,10,10"
   ]
  },
  {
   "cell_type": "code",
   "execution_count": 19,
   "id": "678879a6-ce3d-40e6-9366-a8425c96ab3d",
   "metadata": {},
   "outputs": [
    {
     "data": {
      "text/plain": [
       "10"
      ]
     },
     "execution_count": 19,
     "metadata": {},
     "output_type": "execute_result"
    }
   ],
   "source": [
    "x"
   ]
  },
  {
   "cell_type": "code",
   "execution_count": 20,
   "id": "52c406c4-1cca-4081-8376-9394de2afded",
   "metadata": {},
   "outputs": [
    {
     "data": {
      "text/plain": [
       "10"
      ]
     },
     "execution_count": 20,
     "metadata": {},
     "output_type": "execute_result"
    }
   ],
   "source": [
    "y"
   ]
  },
  {
   "cell_type": "code",
   "execution_count": 21,
   "id": "dc178c94-a404-4e89-83f2-6a5cbe312262",
   "metadata": {},
   "outputs": [
    {
     "data": {
      "text/plain": [
       "10"
      ]
     },
     "execution_count": 21,
     "metadata": {},
     "output_type": "execute_result"
    }
   ],
   "source": [
    "z"
   ]
  },
  {
   "cell_type": "markdown",
   "id": "582f18a8-af88-4bb8-aa6b-cf8e2f8dfea0",
   "metadata": {},
   "source": [
    "Rules for variable naming"
   ]
  },
  {
   "cell_type": "code",
   "execution_count": 22,
   "id": "9c864771-2dd2-4b06-a92f-f4ac1377fb12",
   "metadata": {},
   "outputs": [],
   "source": [
    "abc = 100"
   ]
  },
  {
   "cell_type": "code",
   "execution_count": 23,
   "id": "36e91312-1ade-4e89-916a-db32ac977940",
   "metadata": {},
   "outputs": [
    {
     "data": {
      "text/plain": [
       "100"
      ]
     },
     "execution_count": 23,
     "metadata": {},
     "output_type": "execute_result"
    }
   ],
   "source": [
    "abc"
   ]
  },
  {
   "cell_type": "code",
   "execution_count": 24,
   "id": "0ab41639-20b2-4ad1-a320-6c934e308f43",
   "metadata": {},
   "outputs": [
    {
     "data": {
      "text/plain": [
       "'India'"
      ]
     },
     "execution_count": 24,
     "metadata": {},
     "output_type": "execute_result"
    }
   ],
   "source": [
    "a102=\"India\"\n",
    "a102"
   ]
  },
  {
   "cell_type": "code",
   "execution_count": 25,
   "id": "3b6ef007-cf5f-4bc0-949b-7eae39a88890",
   "metadata": {},
   "outputs": [
    {
     "data": {
      "text/plain": [
       "70.5"
      ]
     },
     "execution_count": 25,
     "metadata": {},
     "output_type": "execute_result"
    }
   ],
   "source": [
    "_123=70.5\n",
    "_123"
   ]
  },
  {
   "cell_type": "code",
   "execution_count": 26,
   "id": "a063fe9e-a7b9-4e23-9a8e-3f2b1eb1b136",
   "metadata": {},
   "outputs": [
    {
     "data": {
      "text/plain": [
       "'puppy'"
      ]
     },
     "execution_count": 26,
     "metadata": {},
     "output_type": "execute_result"
    }
   ],
   "source": [
    "_dog=\"puppy\"\n",
    "_dog"
   ]
  },
  {
   "cell_type": "code",
   "execution_count": 27,
   "id": "ad77e0b5-dc1e-4d24-8bf2-5e0fd050ecc1",
   "metadata": {},
   "outputs": [
    {
     "data": {
      "text/plain": [
       "'debby 21'"
      ]
     },
     "execution_count": 27,
     "metadata": {},
     "output_type": "execute_result"
    }
   ],
   "source": [
    "_name_age=\"debby 21\"\n",
    "_name_age"
   ]
  },
  {
   "cell_type": "code",
   "execution_count": 28,
   "id": "d9a8e078-c831-49e9-8e2b-4585b9da774c",
   "metadata": {},
   "outputs": [
    {
     "ename": "SyntaxError",
     "evalue": "invalid decimal literal (1319638671.py, line 1)",
     "output_type": "error",
     "traceback": [
      "\u001b[1;36m  Cell \u001b[1;32mIn[28], line 1\u001b[1;36m\u001b[0m\n\u001b[1;33m    1name='gili'\u001b[0m\n\u001b[1;37m    ^\u001b[0m\n\u001b[1;31mSyntaxError\u001b[0m\u001b[1;31m:\u001b[0m invalid decimal literal\n"
     ]
    }
   ],
   "source": [
    "1name='gili'\n",
    "1name"
   ]
  },
  {
   "cell_type": "code",
   "execution_count": null,
   "id": "0a4f18b4-19fb-469f-9a41-c5354a3cc4b2",
   "metadata": {},
   "outputs": [],
   "source": []
  }
 ],
 "metadata": {
  "kernelspec": {
   "display_name": "Python 3 (ipykernel)",
   "language": "python",
   "name": "python3"
  },
  "language_info": {
   "codemirror_mode": {
    "name": "ipython",
    "version": 3
   },
   "file_extension": ".py",
   "mimetype": "text/x-python",
   "name": "python",
   "nbconvert_exporter": "python",
   "pygments_lexer": "ipython3",
   "version": "3.11.7"
  }
 },
 "nbformat": 4,
 "nbformat_minor": 5
}
